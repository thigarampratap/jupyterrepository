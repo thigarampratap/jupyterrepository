{
 "cells": [
  {
   "cell_type": "markdown",
   "metadata": {},
   "source": [
    "<h1> Start the HANGMAN GAME </h1>"
   ]
  },
  {
   "cell_type": "code",
   "execution_count": 1,
   "metadata": {},
   "outputs": [],
   "source": [
    "import numpy as np\n",
    "from functools import reduce\n",
    "import os\n",
    "import pandas as pd\n",
    "import math"
   ]
  },
  {
   "cell_type": "markdown",
   "metadata": {},
   "source": [
    "<h2> List of values from system </h2>"
   ]
  },
  {
   "cell_type": "code",
   "execution_count": 2,
   "metadata": {},
   "outputs": [],
   "source": [
    "gl = ['', 'i', 'hi', 'mad', 'land', 'found', 'timeup', 'whether', 'longjump', 'population', 'allrounder', 'acknowledge']\n",
    "attempts = {1:1, 2:4, 3: 5, 4:7, 5:9, 6:10, 7:10, 8:10, 9:10, 10:10, 11:10}\n",
    "key = [chr(k) for k in range(97, 123)]"
   ]
  },
  {
   "cell_type": "code",
   "execution_count": 4,
   "metadata": {},
   "outputs": [
    {
     "name": "stdout",
     "output_type": "stream",
     "text": [
      "You have choosen length of the WORD is : 7\n",
      "----------------------------------------\n",
      "\n",
      "Your HANGMAN word is : *******\n",
      "\n",
      "----------------------------------------\n",
      "You have 10 Attempts !!!\n",
      "Enter the char which you guessed : E\n",
      "match values at3 =>  * * e * * e *\n",
      "Enter the char which you guessed : W\n",
      "match values at3 =>  w * e * * e *\n",
      "Enter the char which you guessed : H\n",
      "match values at3 =>  w h e * h e *\n",
      "Enter the char which you guessed : T\n",
      "match values at3 =>  w h e t h e *\n",
      "Enter the char which you guessed : R\n",
      "match values at3 =>  w h e t h e r\n",
      "*********************************************\n",
      "\n",
      "CONGRATULATIONS...!!! YOUR WORD IS :whether\n",
      "\n",
      "*********************************************\n",
      "\n",
      "     "
     ]
    }
   ],
   "source": [
    "def uc(choice, res):\n",
    "    try:\n",
    "        choice = int(input(\"You have choosen length of the WORD is : \"))\n",
    "        if choice > 11:\n",
    "            print(\"Please Enter upto 11 only !!!\")\n",
    "            res = 0\n",
    "            return res\n",
    "        else:\n",
    "            res = choice\n",
    "            return res\n",
    "    except Exception:\n",
    "        print(\"Please Enter Numeric value only\")\n",
    "        return 0\n",
    "    else:\n",
    "        return res\n",
    "\n",
    "# **************************************************************************\n",
    "\n",
    "def option(lc1, at3, at1):\n",
    "    try:\n",
    "        op = input(\"Enter the char which you guessed : \").lower()\n",
    "        if op in key:\n",
    "            lc3 = [j for j, k in enumerate(lc1) if k == op]\n",
    "        else:\n",
    "            print(\"INVALID INPUT. Please Enter single CHARACTER ONLY !!!\")\n",
    "            lc3 = []\n",
    "            option(lc1, at3, at1)\n",
    "        if len(lc3) > 0:\n",
    "            for i in list(lc3):\n",
    "                if at3[i] != lc1[i]:\n",
    "                    at3[i] = lc1[i]\n",
    "                else:\n",
    "                    print('You have choosen {} already. Please use different character'.format(at3[i]))\n",
    "                    option(lc1, at3, at1)\n",
    "                    \n",
    "            print('match values at3 => ', ' '.join(at3))\n",
    "            \n",
    "            while lc1 == at3:\n",
    "                print('*' * 45 + '\\n')\n",
    "                print('CONGRATULATIONS...!!! YOUR WORD IS :' + ''.join(at3) + '\\n')\n",
    "                print('*' * 45 + '\\n')\n",
    "                break\n",
    "            \n",
    "            if lc1 != at3:\n",
    "                option(lc1, at3, at1)\n",
    "        else:\n",
    "            at1 -= 1\n",
    "            print(\" YOU LEFT {} WRONG ATTEMPTS ONLY !!!\".format(at1))\n",
    "            if at1 < 1: \n",
    "                print('*' * 45 + '\\n')\n",
    "                print (\"SORRY YOU ARE LOSE !!! AS YOU HAVE NO ATTEMPTS LEFT \\n\")\n",
    "                print('*' * 45 + '\\n')\n",
    "                while at1 < 0:\n",
    "                    break\n",
    "            else:\n",
    "                option(lc1, at3, at1)\n",
    "    except Exception:\n",
    "        inval += 1\n",
    "        if inval > 2: \n",
    "            print('*' * 45 + '\\n')\n",
    "            print (\"SORRY YOU HAVE ATTEMPTED WRONGLY TOO MANY TIMES !!! \\n\")\n",
    "            print('*' * 45 + '\\n')\n",
    "        else:\n",
    "            option(lc1, at3, at1)\n",
    "    else:\n",
    "            print(\" \", end=\"\")\n",
    "    \n",
    "# **************************************************************************\n",
    "choice = 0\n",
    "res    = 0\n",
    "res = uc(choice, res)\n",
    "c1 = gl[res]\n",
    "lc1 = [x for x in c1]\n",
    "if len(c1) > 0:\n",
    "    at1 = attempts[len(c1)]\n",
    "    print('----------------------------------------')\n",
    "    print()\n",
    "    print('Your HANGMAN word is :', '*' * len(c1))\n",
    "    at2 = '*' * len(c1)\n",
    "    at3 = [a for a in at2]\n",
    "    print()\n",
    "    print('----------------------------------------')\n",
    "    print('You have {} Attempts !!!'.format(at1))\n",
    "    \n",
    "# print(c1)\n",
    "# print('at3', at3)\n",
    "case = option(lc1, at3, at1)"
   ]
  },
  {
   "cell_type": "code",
   "execution_count": null,
   "metadata": {},
   "outputs": [],
   "source": []
  }
 ],
 "metadata": {
  "kernelspec": {
   "display_name": "Python 3",
   "language": "python",
   "name": "python3"
  },
  "language_info": {
   "codemirror_mode": {
    "name": "ipython",
    "version": 3
   },
   "file_extension": ".py",
   "mimetype": "text/x-python",
   "name": "python",
   "nbconvert_exporter": "python",
   "pygments_lexer": "ipython3",
   "version": "3.8.2"
  }
 },
 "nbformat": 4,
 "nbformat_minor": 4
}
