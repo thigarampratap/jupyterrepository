{
 "cells": [
  {
   "cell_type": "code",
   "execution_count": 9,
   "metadata": {},
   "outputs": [
    {
     "data": {
      "text/plain": [
       "'C:\\\\Users\\\\prata\\\\Desktop'"
      ]
     },
     "execution_count": 9,
     "metadata": {},
     "output_type": "execute_result"
    }
   ],
   "source": [
    "import logging\n",
    "import os\n",
    "os.getcwd()\n",
    "os.chdir('C://Users//prata//Desktop//')\n",
    "os.getcwd()"
   ]
  },
  {
   "cell_type": "code",
   "execution_count": 36,
   "metadata": {},
   "outputs": [
    {
     "name": "stderr",
     "output_type": "stream",
     "text": [
      "WARNING:root:HI this is warning\n",
      "ERROR:root:HI this is error\n"
     ]
    }
   ],
   "source": [
    "logging.basicConfig(level=logging.ERROR)\n",
    "logging.info(\"HI this is info\")\n",
    "logging.warning(\"HI this is warning\")\n",
    "logging.debug(\"HI this is debug\")\n",
    "logging.error(\"HI this is error\")\n"
   ]
  },
  {
   "cell_type": "code",
   "execution_count": 37,
   "metadata": {},
   "outputs": [
    {
     "data": {
      "text/plain": [
       "['apple', 'mango', 'kiwi', 'watermelon', 'peer']"
      ]
     },
     "execution_count": 37,
     "metadata": {},
     "output_type": "execute_result"
    }
   ],
   "source": [
    "fruits = ['apple', 'mango', 'kiwi', 'watermelon', 'peer']\n",
    "fruits"
   ]
  },
  {
   "cell_type": "code",
   "execution_count": 43,
   "metadata": {},
   "outputs": [
    {
     "data": {
      "text/plain": [
       "[5, 5, 4, 10, 4]"
      ]
     },
     "execution_count": 43,
     "metadata": {},
     "output_type": "execute_result"
    }
   ],
   "source": [
    "l1 = [len(i) for i in fruits]\n",
    "l2 = ['m', 'w']\n",
    "l1"
   ]
  },
  {
   "cell_type": "code",
   "execution_count": 66,
   "metadata": {},
   "outputs": [
    {
     "data": {
      "text/plain": [
       "['mango', 'watermelon']"
      ]
     },
     "execution_count": 66,
     "metadata": {},
     "output_type": "execute_result"
    }
   ],
   "source": [
    "l2 = [j for j in fruits if j.startswith(('m', 'w'))]\n",
    "l2"
   ]
  },
  {
   "cell_type": "code",
   "execution_count": 67,
   "metadata": {},
   "outputs": [
    {
     "name": "stdout",
     "output_type": "stream",
     "text": [
      "The following commands were written to file `fname.ipy`:\n",
      "import logging\n",
      "logging.info(\"HI this is info\")\n",
      "logging.info(\"HI this is info\")\n",
      "logging.warning(\"HI this is warning\")\n",
      "logging.debug(\"HI this is debug\")\n",
      "logging.error(\"HI this is error\")\n",
      "logging.critical(\"HI this is critical\")\n",
      "logging.basicConfig('logging.txt', level='DEBUG')\n",
      "logging.info(\"HI this is info\")\n",
      "logging.warning(\"HI this is warning\")\n",
      "logging.debug(\"HI this is debug\")\n",
      "logging.error(\"HI this is error\")\n",
      "logging.critical(\"HI this is critical\")\n",
      "logging.basicConfig(filename='logging.txt', level='DEBUG')\n",
      "logging.info(\"HI this is info\")\n",
      "logging.warning(\"HI this is warning\")\n",
      "logging.debug(\"HI this is debug\")\n",
      "logging.error(\"HI this is error\")\n",
      "logging.critical(\"HI this is critical\")\n",
      "import logging\n",
      "import os\n",
      "os.getcwd()\n",
      "import logging\n",
      "import os\n",
      "os.getcwd()\n",
      "os.chdir('C:/Users/prata/Desktop/)\n",
      "os.getcwd()\n",
      "import logging\n",
      "import os\n",
      "os.getcwd()\n",
      "os.chdir('C://Users//prata//Desktop//)\n",
      "os.getcwd()\n",
      "import logging\n",
      "import os\n",
      "os.getcwd()\n",
      "os.chdir('C://Users//prata//Desktop//')\n",
      "os.getcwd()\n",
      "logging.basicConfig(filename='logging.txt', level='DEBUG')\n",
      "logging.info(\"HI this is info\")\n",
      "logging.warning(\"HI this is warning\")\n",
      "logging.debug(\"HI this is debug\")\n",
      "logging.error(\"HI this is error\")\n",
      "logging.critical(\"HI this is critical\")\n",
      "logging.basicConfig(filename='logging.txt', level='DEBUG')\n",
      "logging.info(\"HI this is info\")\n",
      "logging.warning(\"HI this is warning\")\n",
      "logging.debug(\"HI this is debug\")\n",
      "logging.error(\"HI this is error\")\n",
      "logging.critical(\"HI this is critical\")\n",
      "logging.basicConfig(filename='logging.txt', level=logging.DEBUG)\n",
      "logging.info(\"HI this is info\")\n",
      "logging.warning(\"HI this is warning\")\n",
      "logging.debug(\"HI this is debug\")\n",
      "logging.error(\"HI this is error\")\n",
      "logging.critical(\"HI this is critical\")\n",
      "with open('logging.txt'.'r') as f1:\n",
      "    fr = f1.read()\n",
      "    print(fr)\n",
      "    \n",
      "with open('logging.txt','r') as f1:\n",
      "    fr = f1.read()\n",
      "    print(fr)\n",
      "    \n",
      "logging.basicConfig(filename='logging.txt', level=logging.warning)\n",
      "logging.info(\"HI this is info\")\n",
      "logging.warning(\"HI this is warning\")\n",
      "logging.debug(\"HI this is debug\")\n",
      "logging.error(\"HI this is error\")\n",
      "logging.critical(\"HI this is critical\")\n",
      "with open('logging.txt','r') as f1:\n",
      "    fr = f1.read()\n",
      "    print(fr)\n",
      "    \n",
      "logging.basicConfig(filename='logging.txt', level=logging.info)\n",
      "logging.info(\"HI this is info\")\n",
      "logging.warning(\"HI this is warning\")\n",
      "logging.debug(\"HI this is debug\")\n",
      "logging.error(\"HI this is error\")\n",
      "logging.critical(\"HI this is critical\")\n",
      "logging.basicConfig(filename='logging.txt', level=logging.INFO)\n",
      "logging.info(\"HI this is info\")\n",
      "logging.warning(\"HI this is warning\")\n",
      "logging.debug(\"HI this is debug\")\n",
      "logging.error(\"HI this is error\")\n",
      "logging.critical(\"HI this is critical\")\n",
      "logging.basicConfig(filename='logging.txt', level=INFO)\n",
      "logging.info(\"HI this is info\")\n",
      "logging.warning(\"HI this is warning\")\n",
      "logging.debug(\"HI this is debug\")\n",
      "logging.error(\"HI this is error\")\n",
      "logging.critical(\"HI this is critical\")\n",
      "logging.basicConfig(filename='logging.txt', level=logging.INFO)\n",
      "logging.info(\"HI this is info\")\n",
      "logging.warning(\"HI this is warning\")\n",
      "logging.debug(\"HI this is debug\")\n",
      "logging.error(\"HI this is error\")\n",
      "logging.critical(\"HI this is critical\")\n",
      "logging.basicConfig(filename='log1.txt', level=logging.INFO)\n",
      "logging.info(\"HI this is info\")\n",
      "logging.warning(\"HI this is warning\")\n",
      "logging.debug(\"HI this is debug\")\n",
      "logging.error(\"HI this is error\")\n",
      "logging.critical(\"HI this is critical\")\n",
      "logging.basicConfig(filename='log1.txt', filemode='w', level=logging.INFO)\n",
      "logging.info(\"HI this is info\")\n",
      "logging.warning(\"HI this is warning\")\n",
      "logging.debug(\"HI this is debug\")\n",
      "logging.error(\"HI this is error\")\n",
      "logging.critical(\"HI this is critical\")\n",
      "with open('logging.txt','r') as f1:\n",
      "    fr = f1.read()\n",
      "    print(fr)\n",
      "    \n",
      "logging.basicConfig(filename='log1.txt', filemode='a', level=logging.INFO)\n",
      "logging.info(\"HI this is info\")\n",
      "logging.warning(\"HI this is warning\")\n",
      "logging.debug(\"HI this is debug\")\n",
      "logging.error(\"HI this is error\")\n",
      "logging.critical(\"HI this is critical\")\n",
      "logging.basicConfig(level=logging.INFO)\n",
      "logging.info(\"HI this is info\")\n",
      "logging.warning(\"HI this is warning\")\n",
      "logging.debug(\"HI this is debug\")\n",
      "logging.error(\"HI this is error\")\n",
      "logging.critical(\"HI this is critical\")\n",
      "with open('logging.txt','r') as f1:\n",
      "    fr = f1.read()\n",
      "    print(fr)\n",
      "    \n",
      "logging.basicConfig()\n",
      "logging.info(\"HI this is info\")\n",
      "logging.warning(\"HI this is warning\")\n",
      "logging.debug(\"HI this is debug\")\n",
      "logging.error(\"HI this is error\")\n",
      "logging.critical(\"HI this is critical\")\n",
      "logging.basicConfig()\n",
      "logging.info(\"HI this is info\")\n",
      "logging.warning(\"HI this is warning\")\n",
      "logging.debug(\"HI this is debug\")\n",
      "logging.error(\"HI this is error\")\n",
      "logging.basicConfig(level=logging.critical)\n",
      "logging.info(\"HI this is info\")\n",
      "logging.warning(\"HI this is warning\")\n",
      "logging.debug(\"HI this is debug\")\n",
      "logging.error(\"HI this is error\")\n",
      "logging.basicConfig(level=logging.CRITICAL)\n",
      "logging.info(\"HI this is info\")\n",
      "logging.warning(\"HI this is warning\")\n",
      "logging.debug(\"HI this is debug\")\n",
      "logging.error(\"HI this is error\")\n",
      "logging.basicConfig(level=logging.CRITICAL)\n",
      "logging.INFO(\"HI this is info\")\n",
      "logging.warning(\"HI this is warning\")\n",
      "logging.debug(\"HI this is debug\")\n",
      "logging.error(\"HI this is error\")\n",
      "logging.basicConfig(level=logging.INFO)\n",
      "logging.INFO(\"HI this is info\")\n",
      "logging.warning(\"HI this is warning\")\n",
      "logging.debug(\"HI this is debug\")\n",
      "logging.error(\"HI this is error\")\n",
      "logging.basicConfig(level=logging.INFO)\n",
      "logging.info(\"HI this is info\")\n",
      "logging.warning(\"HI this is warning\")\n",
      "logging.debug(\"HI this is debug\")\n",
      "logging.error(\"HI this is error\")\n",
      "with open('logging.txt','r') as f1:\n",
      "    fr = f1.read()\n",
      "    print(fr)\n",
      "    \n",
      "logging.basicConfig(level=logging.INFO)\n",
      "logging.info(\"HI this is info\")\n",
      "logging.warning(\"HI this is warning\")\n",
      "logging.debug(\"HI this is debug\")\n",
      "logging.error(\"HI this is error\")\n",
      "logging.basicConfig(level=logging.ERROR)\n",
      "logging.info(\"HI this is info\")\n",
      "logging.warning(\"HI this is warning\")\n",
      "logging.debug(\"HI this is debug\")\n",
      "logging.error(\"HI this is error\")\n",
      "fruits = ['apple', 'mango', 'kiwi', 'watermelon', 'peer']\n",
      "fruits\n",
      "l1 = [i + ' ' + len(i) for i in fruits]\n",
      "l1\n",
      "l1 = [str(i) + ' ' + len(i) for i in fruits]\n",
      "l1\n",
      "l1 = [str(i) + '=> ' + len(str(i)) for i in fruits]\n",
      "l1\n",
      "l1 = [len(str(i)) for i in fruits]\n",
      "l1\n",
      "l1 = [i + '=>' + len(str(i)) for i in fruits]\n",
      "l1\n",
      "l1 = [len(i) for i in fruits]\n",
      "l1\n",
      "l2 = [j from j in fruits if j.startswith('m|p')]\n",
      "l2 = [j if j.startswith('m|p') from j in fruits]\n",
      "l2 = [j if j.startswith('m') from j in fruits]\n",
      "l2 = [j from j in fruits if j.startswith('m')]\n",
      "l2 = [j for j in fruits if j.startswith('m')]\n",
      "l2 = [j for j in fruits if j.startswith('m')]\n",
      "l2\n",
      "l2 = [j for j in fruits if j.startswith('m|w')]\n",
      "l2\n"
     ]
    }
   ],
   "source": [
    "%save -r fname 1-50"
   ]
  },
  {
   "cell_type": "markdown",
   "metadata": {},
   "source": []
  },
  {
   "cell_type": "markdown",
   "metadata": {},
   "source": [
    "writing magic methods below"
   ]
  },
  {
   "cell_type": "markdown",
   "metadata": {},
   "source": [
    "<html><body><h1> HI this is HTML page </h1></body></html>"
   ]
  },
  {
   "cell_type": "markdown",
   "metadata": {},
   "source": [
    "## head"
   ]
  },
  {
   "cell_type": "markdown",
   "metadata": {},
   "source": [
    "##### head"
   ]
  },
  {
   "cell_type": "markdown",
   "metadata": {},
   "source": [
    "* head"
   ]
  },
  {
   "cell_type": "markdown",
   "metadata": {},
   "source": [
    "<em> text </em>"
   ]
  },
  {
   "cell_type": "markdown",
   "metadata": {},
   "source": [
    "_head"
   ]
  },
  {
   "cell_type": "markdown",
   "metadata": {},
   "source": [
    "<ul>\n",
    "    <li>aaaaaaaaaa\n",
    "    <li>bbbbbbbbbb\n",
    "    <li>cccccccccc\n",
    "</ul>"
   ]
  },
  {
   "cell_type": "markdown",
   "metadata": {},
   "source": [
    "<a herf=\"https://www.google.com\">Open google page</a>"
   ]
  },
  {
   "cell_type": "code",
   "execution_count": 81,
   "metadata": {},
   "outputs": [
    {
     "name": "stdout",
     "output_type": "stream",
     "text": [
      "import logging\n",
      "logging.info(\"HI this is info\")\n",
      "logging.info(\"HI this is info\")\n",
      "logging.warning(\"HI this is warning\")\n",
      "logging.debug(\"HI this is debug\")\n",
      "logging.error(\"HI this is error\")\n",
      "logging.critical(\"HI this is critical\")\n",
      "logging.basicConfig('logging.txt', level='DEBUG')\n",
      "logging.info(\"HI this is info\")\n",
      "logging.warning(\"HI this is warning\")\n",
      "logging.debug(\"HI this is debug\")\n",
      "logging.error(\"HI this is error\")\n",
      "logging.critical(\"HI this is critical\")\n",
      "logging.basicConfig(filename='logging.txt', level='DEBUG')\n",
      "logging.info(\"HI this is info\")\n",
      "logging.warning(\"HI this is warning\")\n",
      "logging.debug(\"HI this is debug\")\n",
      "logging.error(\"HI this is error\")\n",
      "logging.critical(\"HI this is critical\")\n",
      "import logging\n",
      "import os\n",
      "os.getcwd()\n",
      "import logging\n",
      "import os\n",
      "os.getcwd()\n",
      "os.chdir('C:/Users/prata/Desktop/)\n",
      "os.getcwd()\n",
      "import logging\n",
      "import os\n",
      "os.getcwd()\n",
      "os.chdir('C://Users//prata//Desktop//)\n",
      "os.getcwd()\n",
      "import logging\n",
      "import os\n",
      "os.getcwd()\n",
      "os.chdir('C://Users//prata//Desktop//')\n",
      "os.getcwd()\n",
      "logging.basicConfig(filename='logging.txt', level='DEBUG')\n",
      "logging.info(\"HI this is info\")\n",
      "logging.warning(\"HI this is warning\")\n",
      "logging.debug(\"HI this is debug\")\n",
      "logging.error(\"HI this is error\")\n",
      "logging.critical(\"HI this is critical\")\n",
      "logging.basicConfig(filename='logging.txt', level='DEBUG')\n",
      "logging.info(\"HI this is info\")\n",
      "logging.warning(\"HI this is warning\")\n",
      "logging.debug(\"HI this is debug\")\n",
      "logging.error(\"HI this is error\")\n",
      "logging.critical(\"HI this is critical\")\n",
      "logging.basicConfig(filename='logging.txt', level=logging.DEBUG)\n",
      "logging.info(\"HI this is info\")\n",
      "logging.warning(\"HI this is warning\")\n",
      "logging.debug(\"HI this is debug\")\n",
      "logging.error(\"HI this is error\")\n",
      "logging.critical(\"HI this is critical\")\n",
      "with open('logging.txt'.'r') as f1:\n",
      "    fr = f1.read()\n",
      "    print(fr)\n",
      "with open('logging.txt','r') as f1:\n",
      "    fr = f1.read()\n",
      "    print(fr)\n",
      "logging.basicConfig(filename='logging.txt', level=logging.warning)\n",
      "logging.info(\"HI this is info\")\n",
      "logging.warning(\"HI this is warning\")\n",
      "logging.debug(\"HI this is debug\")\n",
      "logging.error(\"HI this is error\")\n",
      "logging.critical(\"HI this is critical\")\n",
      "with open('logging.txt','r') as f1:\n",
      "    fr = f1.read()\n",
      "    print(fr)\n",
      "logging.basicConfig(filename='logging.txt', level=logging.info)\n",
      "logging.info(\"HI this is info\")\n",
      "logging.warning(\"HI this is warning\")\n",
      "logging.debug(\"HI this is debug\")\n",
      "logging.error(\"HI this is error\")\n",
      "logging.critical(\"HI this is critical\")\n",
      "logging.basicConfig(filename='logging.txt', level=logging.INFO)\n",
      "logging.info(\"HI this is info\")\n",
      "logging.warning(\"HI this is warning\")\n",
      "logging.debug(\"HI this is debug\")\n",
      "logging.error(\"HI this is error\")\n",
      "logging.critical(\"HI this is critical\")\n",
      "logging.basicConfig(filename='logging.txt', level=INFO)\n",
      "logging.info(\"HI this is info\")\n",
      "logging.warning(\"HI this is warning\")\n",
      "logging.debug(\"HI this is debug\")\n",
      "logging.error(\"HI this is error\")\n",
      "logging.critical(\"HI this is critical\")\n",
      "logging.basicConfig(filename='logging.txt', level=logging.INFO)\n",
      "logging.info(\"HI this is info\")\n",
      "logging.warning(\"HI this is warning\")\n",
      "logging.debug(\"HI this is debug\")\n",
      "logging.error(\"HI this is error\")\n",
      "logging.critical(\"HI this is critical\")\n",
      "logging.basicConfig(filename='log1.txt', level=logging.INFO)\n",
      "logging.info(\"HI this is info\")\n",
      "logging.warning(\"HI this is warning\")\n",
      "logging.debug(\"HI this is debug\")\n",
      "logging.error(\"HI this is error\")\n",
      "logging.critical(\"HI this is critical\")\n",
      "logging.basicConfig(filename='log1.txt', filemode='w', level=logging.INFO)\n",
      "logging.info(\"HI this is info\")\n",
      "logging.warning(\"HI this is warning\")\n",
      "logging.debug(\"HI this is debug\")\n",
      "logging.error(\"HI this is error\")\n",
      "logging.critical(\"HI this is critical\")\n",
      "with open('logging.txt','r') as f1:\n",
      "    fr = f1.read()\n",
      "    print(fr)\n",
      "logging.basicConfig(filename='log1.txt', filemode='a', level=logging.INFO)\n",
      "logging.info(\"HI this is info\")\n",
      "logging.warning(\"HI this is warning\")\n",
      "logging.debug(\"HI this is debug\")\n",
      "logging.error(\"HI this is error\")\n",
      "logging.critical(\"HI this is critical\")\n",
      "logging.basicConfig(level=logging.INFO)\n",
      "logging.info(\"HI this is info\")\n",
      "logging.warning(\"HI this is warning\")\n",
      "logging.debug(\"HI this is debug\")\n",
      "logging.error(\"HI this is error\")\n",
      "logging.critical(\"HI this is critical\")\n",
      "with open('logging.txt','r') as f1:\n",
      "    fr = f1.read()\n",
      "    print(fr)\n",
      "logging.basicConfig()\n",
      "logging.info(\"HI this is info\")\n",
      "logging.warning(\"HI this is warning\")\n",
      "logging.debug(\"HI this is debug\")\n",
      "logging.error(\"HI this is error\")\n",
      "logging.critical(\"HI this is critical\")\n",
      "logging.basicConfig()\n",
      "logging.info(\"HI this is info\")\n",
      "logging.warning(\"HI this is warning\")\n",
      "logging.debug(\"HI this is debug\")\n",
      "logging.error(\"HI this is error\")\n",
      "logging.basicConfig(level=logging.critical)\n",
      "logging.info(\"HI this is info\")\n",
      "logging.warning(\"HI this is warning\")\n",
      "logging.debug(\"HI this is debug\")\n",
      "logging.error(\"HI this is error\")\n",
      "logging.basicConfig(level=logging.CRITICAL)\n",
      "logging.info(\"HI this is info\")\n",
      "logging.warning(\"HI this is warning\")\n",
      "logging.debug(\"HI this is debug\")\n",
      "logging.error(\"HI this is error\")\n",
      "logging.basicConfig(level=logging.CRITICAL)\n",
      "logging.INFO(\"HI this is info\")\n",
      "logging.warning(\"HI this is warning\")\n",
      "logging.debug(\"HI this is debug\")\n",
      "logging.error(\"HI this is error\")\n",
      "logging.basicConfig(level=logging.INFO)\n",
      "logging.INFO(\"HI this is info\")\n",
      "logging.warning(\"HI this is warning\")\n",
      "logging.debug(\"HI this is debug\")\n",
      "logging.error(\"HI this is error\")\n",
      "logging.basicConfig(level=logging.INFO)\n",
      "logging.info(\"HI this is info\")\n",
      "logging.warning(\"HI this is warning\")\n",
      "logging.debug(\"HI this is debug\")\n",
      "logging.error(\"HI this is error\")\n",
      "with open('logging.txt','r') as f1:\n",
      "    fr = f1.read()\n",
      "    print(fr)\n",
      "logging.basicConfig(level=logging.INFO)\n",
      "logging.info(\"HI this is info\")\n",
      "logging.warning(\"HI this is warning\")\n",
      "logging.debug(\"HI this is debug\")\n",
      "logging.error(\"HI this is error\")\n",
      "logging.basicConfig(level=logging.ERROR)\n",
      "logging.info(\"HI this is info\")\n",
      "logging.warning(\"HI this is warning\")\n",
      "logging.debug(\"HI this is debug\")\n",
      "logging.error(\"HI this is error\")\n",
      "fruits = ['apple', 'mango', 'kiwi', 'watermelon', 'peer']\n",
      "fruits\n",
      "l1 = [i + ' ' + len(i) for i in fruits]\n",
      "l1\n",
      "l1 = [str(i) + ' ' + len(i) for i in fruits]\n",
      "l1\n",
      "l1 = [str(i) + '=> ' + len(str(i)) for i in fruits]\n",
      "l1\n",
      "l1 = [len(str(i)) for i in fruits]\n",
      "l1\n",
      "l1 = [i + '=>' + len(str(i)) for i in fruits]\n",
      "l1\n",
      "l1 = [len(i) for i in fruits]\n",
      "l1\n",
      "l2 = [j from j in fruits if j.startswith('m|p')]\n",
      "l2 = [j if j.startswith('m|p') from j in fruits]\n",
      "l2 = [j if j.startswith('m') from j in fruits]\n",
      "l2 = [j from j in fruits if j.startswith('m')]\n",
      "l2 = [j for j in fruits if j.startswith('m')]\n",
      "l2 = [j for j in fruits if j.startswith('m')]\n",
      "l2\n",
      "l2 = [j for j in fruits if j.startswith('m|w')]\n",
      "l2\n",
      "l2 = [j for j in fruits if j.startswith('m') else (k for k in fruits if k.startswith('w'))]\n",
      "l2\n",
      "l2 = [j if j.startswith('m') else (k for k in fruits if k.startswith('w')) for j in fruits]\n",
      "l2\n",
      "l2 = [j if j.startswith('m') else (k for k in fruits if k.startswith('w')) for j in fruits]\n",
      "list(l2)\n",
      "l2 = [j for j in fruits if j.startswith('m')]\n",
      "l2\n",
      "l2 = [j for j in fruits if j.startswith('m') or j.startswith('w')]\n",
      "l2\n",
      "l2 = [j for j in fruits if j in ('m','w')]\n",
      "l2\n",
      "l2 = [j for j in fruits if j in ['m','w']]\n",
      "l2\n",
      "l2 = [j for j in fruits if j in ('m')\n",
      "l2\n",
      "l2 = [j for j in fruits if j in ('m')]\n",
      "l2\n",
      "l2 = [j for j in fruits if j.startswith('m')]\n",
      "l2\n",
      "l2 = [j for j in fruits if j.startswith('m' or 'w' or 'p')]\n",
      "l2\n",
      "l2 = [j for j in fruits if j.startswith('w' or 'w' or 'p')]\n",
      "l2\n",
      "l2 = [j for j in fruits if j.startswith() in ('m', 'w')]\n",
      "l2\n",
      "l2 = [j for j in fruits if j.startswith() in ['m', 'w']]\n",
      "l2\n",
      "l2 = [j for j in fruits if j.startswith(('m', 'w'))\n",
      "l2\n",
      "l2 = [j for j in fruits if j.startswith(('m', 'w'))]\n",
      "l2\n",
      "%save -r fname 1-50\n",
      "%save -a fname1 60-67\n",
      "%save -f fname1 60-67\n",
      "%more fname\n",
      "%more fname.ipy\n",
      "%more fname1.ipy\n",
      "%more fname.ipy\n",
      "%hist\n",
      "%history\n",
      "history\n",
      "history\n",
      "%hist\n",
      "his\n",
      "history\n",
      "%hist\n"
     ]
    }
   ],
   "source": [
    "%hist"
   ]
  },
  {
   "cell_type": "code",
   "execution_count": 82,
   "metadata": {},
   "outputs": [
    {
     "name": "stdout",
     "output_type": "stream",
     "text": [
      "import logging\n",
      "logging.info(\"HI this is info\")\n",
      "logging.info(\"HI this is info\")\n",
      "logging.warning(\"HI this is warning\")\n",
      "logging.debug(\"HI this is debug\")\n",
      "logging.error(\"HI this is error\")\n",
      "logging.critical(\"HI this is critical\")\n",
      "logging.basicConfig('logging.txt', level='DEBUG')\n",
      "logging.info(\"HI this is info\")\n",
      "logging.warning(\"HI this is warning\")\n",
      "logging.debug(\"HI this is debug\")\n",
      "logging.error(\"HI this is error\")\n",
      "logging.critical(\"HI this is critical\")\n",
      "logging.basicConfig(filename='logging.txt', level='DEBUG')\n",
      "logging.info(\"HI this is info\")\n",
      "logging.warning(\"HI this is warning\")\n",
      "logging.debug(\"HI this is debug\")\n",
      "logging.error(\"HI this is error\")\n",
      "logging.critical(\"HI this is critical\")\n",
      "import logging\n",
      "import os\n",
      "os.getcwd()\n",
      "import logging\n",
      "import os\n",
      "os.getcwd()\n",
      "os.chdir('C:/Users/prata/Desktop/)\n",
      "os.getcwd()\n",
      "import logging\n",
      "import os\n",
      "os.getcwd()\n",
      "os.chdir('C://Users//prata//Desktop//)\n",
      "os.getcwd()\n",
      "import logging\n",
      "import os\n",
      "os.getcwd()\n",
      "os.chdir('C://Users//prata//Desktop//')\n",
      "os.getcwd()\n",
      "logging.basicConfig(filename='logging.txt', level='DEBUG')\n",
      "logging.info(\"HI this is info\")\n",
      "logging.warning(\"HI this is warning\")\n",
      "logging.debug(\"HI this is debug\")\n",
      "logging.error(\"HI this is error\")\n",
      "logging.critical(\"HI this is critical\")\n",
      "logging.basicConfig(filename='logging.txt', level='DEBUG')\n",
      "logging.info(\"HI this is info\")\n",
      "logging.warning(\"HI this is warning\")\n",
      "logging.debug(\"HI this is debug\")\n",
      "logging.error(\"HI this is error\")\n",
      "logging.critical(\"HI this is critical\")\n",
      "logging.basicConfig(filename='logging.txt', level=logging.DEBUG)\n",
      "logging.info(\"HI this is info\")\n",
      "logging.warning(\"HI this is warning\")\n",
      "logging.debug(\"HI this is debug\")\n",
      "logging.error(\"HI this is error\")\n",
      "logging.critical(\"HI this is critical\")\n",
      "with open('logging.txt'.'r') as f1:\n",
      "    fr = f1.read()\n",
      "    print(fr)\n",
      "with open('logging.txt','r') as f1:\n",
      "    fr = f1.read()\n",
      "    print(fr)\n",
      "logging.basicConfig(filename='logging.txt', level=logging.warning)\n",
      "logging.info(\"HI this is info\")\n",
      "logging.warning(\"HI this is warning\")\n",
      "logging.debug(\"HI this is debug\")\n",
      "logging.error(\"HI this is error\")\n",
      "logging.critical(\"HI this is critical\")\n",
      "with open('logging.txt','r') as f1:\n",
      "    fr = f1.read()\n",
      "    print(fr)\n",
      "logging.basicConfig(filename='logging.txt', level=logging.info)\n",
      "logging.info(\"HI this is info\")\n",
      "logging.warning(\"HI this is warning\")\n",
      "logging.debug(\"HI this is debug\")\n",
      "logging.error(\"HI this is error\")\n",
      "logging.critical(\"HI this is critical\")\n",
      "logging.basicConfig(filename='logging.txt', level=logging.INFO)\n",
      "logging.info(\"HI this is info\")\n",
      "logging.warning(\"HI this is warning\")\n",
      "logging.debug(\"HI this is debug\")\n",
      "logging.error(\"HI this is error\")\n",
      "logging.critical(\"HI this is critical\")\n",
      "logging.basicConfig(filename='logging.txt', level=INFO)\n",
      "logging.info(\"HI this is info\")\n",
      "logging.warning(\"HI this is warning\")\n",
      "logging.debug(\"HI this is debug\")\n",
      "logging.error(\"HI this is error\")\n",
      "logging.critical(\"HI this is critical\")\n",
      "logging.basicConfig(filename='logging.txt', level=logging.INFO)\n",
      "logging.info(\"HI this is info\")\n",
      "logging.warning(\"HI this is warning\")\n",
      "logging.debug(\"HI this is debug\")\n",
      "logging.error(\"HI this is error\")\n",
      "logging.critical(\"HI this is critical\")\n",
      "logging.basicConfig(filename='log1.txt', level=logging.INFO)\n",
      "logging.info(\"HI this is info\")\n",
      "logging.warning(\"HI this is warning\")\n",
      "logging.debug(\"HI this is debug\")\n",
      "logging.error(\"HI this is error\")\n",
      "logging.critical(\"HI this is critical\")\n",
      "logging.basicConfig(filename='log1.txt', filemode='w', level=logging.INFO)\n",
      "logging.info(\"HI this is info\")\n",
      "logging.warning(\"HI this is warning\")\n",
      "logging.debug(\"HI this is debug\")\n",
      "logging.error(\"HI this is error\")\n",
      "logging.critical(\"HI this is critical\")\n",
      "with open('logging.txt','r') as f1:\n",
      "    fr = f1.read()\n",
      "    print(fr)\n",
      "logging.basicConfig(filename='log1.txt', filemode='a', level=logging.INFO)\n",
      "logging.info(\"HI this is info\")\n",
      "logging.warning(\"HI this is warning\")\n",
      "logging.debug(\"HI this is debug\")\n",
      "logging.error(\"HI this is error\")\n",
      "logging.critical(\"HI this is critical\")\n",
      "logging.basicConfig(level=logging.INFO)\n",
      "logging.info(\"HI this is info\")\n",
      "logging.warning(\"HI this is warning\")\n",
      "logging.debug(\"HI this is debug\")\n",
      "logging.error(\"HI this is error\")\n",
      "logging.critical(\"HI this is critical\")\n",
      "with open('logging.txt','r') as f1:\n",
      "    fr = f1.read()\n",
      "    print(fr)\n",
      "logging.basicConfig()\n",
      "logging.info(\"HI this is info\")\n",
      "logging.warning(\"HI this is warning\")\n",
      "logging.debug(\"HI this is debug\")\n",
      "logging.error(\"HI this is error\")\n",
      "logging.critical(\"HI this is critical\")\n",
      "logging.basicConfig()\n",
      "logging.info(\"HI this is info\")\n",
      "logging.warning(\"HI this is warning\")\n",
      "logging.debug(\"HI this is debug\")\n",
      "logging.error(\"HI this is error\")\n",
      "logging.basicConfig(level=logging.critical)\n",
      "logging.info(\"HI this is info\")\n",
      "logging.warning(\"HI this is warning\")\n",
      "logging.debug(\"HI this is debug\")\n",
      "logging.error(\"HI this is error\")\n",
      "logging.basicConfig(level=logging.CRITICAL)\n",
      "logging.info(\"HI this is info\")\n",
      "logging.warning(\"HI this is warning\")\n",
      "logging.debug(\"HI this is debug\")\n",
      "logging.error(\"HI this is error\")\n",
      "logging.basicConfig(level=logging.CRITICAL)\n",
      "logging.INFO(\"HI this is info\")\n",
      "logging.warning(\"HI this is warning\")\n",
      "logging.debug(\"HI this is debug\")\n",
      "logging.error(\"HI this is error\")\n",
      "logging.basicConfig(level=logging.INFO)\n",
      "logging.INFO(\"HI this is info\")\n",
      "logging.warning(\"HI this is warning\")\n",
      "logging.debug(\"HI this is debug\")\n",
      "logging.error(\"HI this is error\")\n",
      "logging.basicConfig(level=logging.INFO)\n",
      "logging.info(\"HI this is info\")\n",
      "logging.warning(\"HI this is warning\")\n",
      "logging.debug(\"HI this is debug\")\n",
      "logging.error(\"HI this is error\")\n",
      "with open('logging.txt','r') as f1:\n",
      "    fr = f1.read()\n",
      "    print(fr)\n",
      "logging.basicConfig(level=logging.INFO)\n",
      "logging.info(\"HI this is info\")\n",
      "logging.warning(\"HI this is warning\")\n",
      "logging.debug(\"HI this is debug\")\n",
      "logging.error(\"HI this is error\")\n",
      "logging.basicConfig(level=logging.ERROR)\n",
      "logging.info(\"HI this is info\")\n",
      "logging.warning(\"HI this is warning\")\n",
      "logging.debug(\"HI this is debug\")\n",
      "logging.error(\"HI this is error\")\n",
      "fruits = ['apple', 'mango', 'kiwi', 'watermelon', 'peer']\n",
      "fruits\n",
      "l1 = [i + ' ' + len(i) for i in fruits]\n",
      "l1\n",
      "l1 = [str(i) + ' ' + len(i) for i in fruits]\n",
      "l1\n",
      "l1 = [str(i) + '=> ' + len(str(i)) for i in fruits]\n",
      "l1\n",
      "l1 = [len(str(i)) for i in fruits]\n",
      "l1\n",
      "l1 = [i + '=>' + len(str(i)) for i in fruits]\n",
      "l1\n",
      "l1 = [len(i) for i in fruits]\n",
      "l1\n",
      "l2 = [j from j in fruits if j.startswith('m|p')]\n",
      "l2 = [j if j.startswith('m|p') from j in fruits]\n",
      "l2 = [j if j.startswith('m') from j in fruits]\n",
      "l2 = [j from j in fruits if j.startswith('m')]\n",
      "l2 = [j for j in fruits if j.startswith('m')]\n",
      "l2 = [j for j in fruits if j.startswith('m')]\n",
      "l2\n",
      "l2 = [j for j in fruits if j.startswith('m|w')]\n",
      "l2\n",
      "l2 = [j for j in fruits if j.startswith('m') else (k for k in fruits if k.startswith('w'))]\n",
      "l2\n",
      "l2 = [j if j.startswith('m') else (k for k in fruits if k.startswith('w')) for j in fruits]\n",
      "l2\n",
      "l2 = [j if j.startswith('m') else (k for k in fruits if k.startswith('w')) for j in fruits]\n",
      "list(l2)\n",
      "l2 = [j for j in fruits if j.startswith('m')]\n",
      "l2\n",
      "l2 = [j for j in fruits if j.startswith('m') or j.startswith('w')]\n",
      "l2\n",
      "l2 = [j for j in fruits if j in ('m','w')]\n",
      "l2\n",
      "l2 = [j for j in fruits if j in ['m','w']]\n",
      "l2\n",
      "l2 = [j for j in fruits if j in ('m')\n",
      "l2\n",
      "l2 = [j for j in fruits if j in ('m')]\n",
      "l2\n",
      "l2 = [j for j in fruits if j.startswith('m')]\n",
      "l2\n",
      "l2 = [j for j in fruits if j.startswith('m' or 'w' or 'p')]\n",
      "l2\n",
      "l2 = [j for j in fruits if j.startswith('w' or 'w' or 'p')]\n",
      "l2\n",
      "l2 = [j for j in fruits if j.startswith() in ('m', 'w')]\n",
      "l2\n",
      "l2 = [j for j in fruits if j.startswith() in ['m', 'w']]\n",
      "l2\n",
      "l2 = [j for j in fruits if j.startswith(('m', 'w'))\n",
      "l2\n",
      "l2 = [j for j in fruits if j.startswith(('m', 'w'))]\n",
      "l2\n",
      "%save -r fname 1-50\n",
      "%save -a fname1 60-67\n",
      "%save -f fname1 60-67\n",
      "%more fname\n",
      "%more fname.ipy\n",
      "%more fname1.ipy\n",
      "%more fname.ipy\n",
      "%hist\n",
      "%history\n",
      "history\n",
      "history\n",
      "%hist\n",
      "his\n",
      "history\n",
      "%hist\n",
      "%history\n"
     ]
    }
   ],
   "source": [
    "%history"
   ]
  },
  {
   "cell_type": "markdown",
   "metadata": {},
   "source": [
    "*python*"
   ]
  },
  {
   "cell_type": "markdown",
   "metadata": {},
   "source": [
    "-python-"
   ]
  },
  {
   "cell_type": "markdown",
   "metadata": {},
   "source": [
    "**python**"
   ]
  },
  {
   "cell_type": "code",
   "execution_count": 84,
   "metadata": {},
   "outputs": [
    {
     "data": {
      "text/plain": [
       "'import logging'"
      ]
     },
     "execution_count": 84,
     "metadata": {},
     "output_type": "execute_result"
    }
   ],
   "source": [
    "_i1"
   ]
  },
  {
   "cell_type": "code",
   "execution_count": 85,
   "metadata": {},
   "outputs": [
    {
     "data": {
      "text/plain": [
       "'logging.info(\"HI this is info\")'"
      ]
     },
     "execution_count": 85,
     "metadata": {},
     "output_type": "execute_result"
    }
   ],
   "source": [
    "_i2"
   ]
  },
  {
   "cell_type": "code",
   "execution_count": 114,
   "metadata": {},
   "outputs": [
    {
     "name": "stdout",
     "output_type": "stream",
     "text": [
      "[3 4 5 3 2 1]\n"
     ]
    }
   ],
   "source": [
    "import numpy as np\n",
    "a1 = np.array([3, 4, 5, 3, 2, 1])\n",
    "print(a1)"
   ]
  },
  {
   "cell_type": "code",
   "execution_count": 107,
   "metadata": {},
   "outputs": [
    {
     "data": {
      "text/plain": [
       "dtype('S2')"
      ]
     },
     "execution_count": 107,
     "metadata": {},
     "output_type": "execute_result"
    }
   ],
   "source": [
    "a1.dtype"
   ]
  },
  {
   "cell_type": "code",
   "execution_count": 104,
   "metadata": {},
   "outputs": [
    {
     "data": {
      "text/plain": [
       "numpy.ndarray"
      ]
     },
     "execution_count": 104,
     "metadata": {},
     "output_type": "execute_result"
    }
   ],
   "source": [
    "type(a1)"
   ]
  },
  {
   "cell_type": "code",
   "execution_count": 120,
   "metadata": {},
   "outputs": [
    {
     "data": {
      "text/plain": [
       "array([[5, 4, 6, 2]])"
      ]
     },
     "execution_count": 120,
     "metadata": {},
     "output_type": "execute_result"
    }
   ],
   "source": [
    "a2 = np.array([5, 4, 6, 2], ndmin=2)\n",
    "a2"
   ]
  },
  {
   "cell_type": "code",
   "execution_count": 127,
   "metadata": {},
   "outputs": [
    {
     "data": {
      "text/plain": [
       "1"
      ]
     },
     "execution_count": 127,
     "metadata": {},
     "output_type": "execute_result"
    }
   ],
   "source": [
    "a3 = np.array((((3, 5, 3, 8))))\n",
    "np.ndim(a3)"
   ]
  },
  {
   "cell_type": "code",
   "execution_count": 130,
   "metadata": {},
   "outputs": [
    {
     "name": "stdout",
     "output_type": "stream",
     "text": [
      "[[[3 4 5]]]\n",
      "3\n"
     ]
    }
   ],
   "source": [
    "a4 = np.array([[[3, 4, 5]]])\n",
    "print(a4)\n",
    "print(np.ndim(a4))"
   ]
  },
  {
   "cell_type": "code",
   "execution_count": 143,
   "metadata": {},
   "outputs": [
    {
     "name": "stdout",
     "output_type": "stream",
     "text": [
      "(0,)5\n",
      "(1,)3\n",
      "(2,)4\n",
      "(3,)7\n",
      "(4,)8\n",
      "(5,)1\n",
      "(6,)3\n"
     ]
    }
   ],
   "source": [
    "a5 = np.array([5, 3, 4, 7, 8, 1, 3])\n",
    "for i, j in np.ndenumerate(a5):\n",
    "    print(i, end='')\n",
    "    print(j)"
   ]
  },
  {
   "cell_type": "code",
   "execution_count": 162,
   "metadata": {},
   "outputs": [
    {
     "name": "stdout",
     "output_type": "stream",
     "text": [
      "lst1 [[-1  4  3  5]\n",
      " [ 4  6 -3  9]]\n",
      "data type int32\n",
      "dimention of array  2\n",
      "shape of array (2, 4)\n",
      "size of array 8\n",
      "each element size 4\n"
     ]
    }
   ],
   "source": [
    "lst2 = np.array([[-1, 4, 3, 5], [4, 6, -3, 9]])\n",
    "def arrlst(*lst):\n",
    "    lst1 = np.array(lst2)\n",
    "    print('lst1', lst1)\n",
    "    print('data type', lst1.dtype)\n",
    "    print('dimention of array ', np.ndim(lst1))\n",
    "    print('shape of array', lst1.shape)\n",
    "    print('size of array', np.size(lst1))\n",
    "    print('each element size', lst1.itemsize)\n",
    "    \n",
    "arrlst(lst)"
   ]
  },
  {
   "cell_type": "code",
   "execution_count": 167,
   "metadata": {},
   "outputs": [
    {
     "name": "stdout",
     "output_type": "stream",
     "text": [
      "[[2 2 2 4 6]\n",
      " [9 6 3 9 2]\n",
      " [2 6 4 3 8]]\n"
     ]
    }
   ],
   "source": [
    "from numpy import random\n",
    "a5 = np.array([4, 3, 6, 2, 6, 3, 9, 8, 1, 4, 2, 4])\n",
    "x = random.choice(a5, size = (3, 5))\n",
    "print(x)\n"
   ]
  },
  {
   "cell_type": "code",
   "execution_count": 169,
   "metadata": {},
   "outputs": [
    {
     "data": {
      "text/plain": [
       "array([[0., 0., 0., 0.],\n",
       "       [0., 0., 0., 0.],\n",
       "       [0., 0., 0., 0.]])"
      ]
     },
     "execution_count": 169,
     "metadata": {},
     "output_type": "execute_result"
    }
   ],
   "source": [
    "np.zeros(shape = (3, 4))"
   ]
  },
  {
   "cell_type": "code",
   "execution_count": 172,
   "metadata": {},
   "outputs": [
    {
     "data": {
      "text/plain": [
       "array([[5, 5, 5, 5],\n",
       "       [5, 5, 5, 5],\n",
       "       [5, 5, 5, 5]])"
      ]
     },
     "execution_count": 172,
     "metadata": {},
     "output_type": "execute_result"
    }
   ],
   "source": [
    "np.full(shape = (3, 4), fill_value = 5)"
   ]
  },
  {
   "cell_type": "code",
   "execution_count": 176,
   "metadata": {},
   "outputs": [
    {
     "data": {
      "text/plain": [
       "array([[1., 1., 1., 1.],\n",
       "       [1., 1., 1., 1.],\n",
       "       [1., 1., 1., 1.]])"
      ]
     },
     "execution_count": 176,
     "metadata": {},
     "output_type": "execute_result"
    }
   ],
   "source": [
    "np.ones(shape = (3, 4))"
   ]
  },
  {
   "cell_type": "code",
   "execution_count": 180,
   "metadata": {},
   "outputs": [
    {
     "data": {
      "text/plain": [
       "array([1, 2, 3, 4, 5, 6, 7, 8, 9])"
      ]
     },
     "execution_count": 180,
     "metadata": {},
     "output_type": "execute_result"
    }
   ],
   "source": [
    "np.arange(1, 10)"
   ]
  },
  {
   "cell_type": "code",
   "execution_count": 205,
   "metadata": {},
   "outputs": [
    {
     "data": {
      "text/plain": [
       "array([ 30.        ,  37.77777778,  45.55555556,  53.33333333,\n",
       "        61.11111111,  68.88888889,  76.66666667,  84.44444444,\n",
       "        92.22222222, 100.        ])"
      ]
     },
     "execution_count": 205,
     "metadata": {},
     "output_type": "execute_result"
    }
   ],
   "source": [
    "np.linspace(30, 100, 10, 9)"
   ]
  },
  {
   "cell_type": "code",
   "execution_count": 199,
   "metadata": {},
   "outputs": [
    {
     "data": {
      "text/plain": [
       "7.777777777777778"
      ]
     },
     "execution_count": 199,
     "metadata": {},
     "output_type": "execute_result"
    }
   ],
   "source": [
    "70/9"
   ]
  },
  {
   "cell_type": "code",
   "execution_count": 222,
   "metadata": {},
   "outputs": [
    {
     "data": {
      "text/plain": [
       "array([76, 27])"
      ]
     },
     "execution_count": 222,
     "metadata": {},
     "output_type": "execute_result"
    }
   ],
   "source": [
    "np.random.randint(4, 80, 2)"
   ]
  },
  {
   "cell_type": "code",
   "execution_count": 225,
   "metadata": {},
   "outputs": [
    {
     "data": {
      "text/plain": [
       "array([[[2, 4, 2, 3, 4, 2],\n",
       "        [4, 4, 4, 2, 3, 3],\n",
       "        [3, 4, 3, 4, 2, 3]],\n",
       "\n",
       "       [[4, 3, 3, 4, 2, 3],\n",
       "        [4, 4, 2, 4, 4, 2],\n",
       "        [4, 4, 4, 4, 2, 3]],\n",
       "\n",
       "       [[2, 4, 2, 2, 3, 3],\n",
       "        [3, 3, 4, 3, 4, 3],\n",
       "        [3, 3, 4, 2, 2, 3]]])"
      ]
     },
     "execution_count": 225,
     "metadata": {},
     "output_type": "execute_result"
    }
   ],
   "source": [
    "np.random.choice([2, 3, 4], size = (3, 3, 6))"
   ]
  },
  {
   "cell_type": "code",
   "execution_count": 227,
   "metadata": {},
   "outputs": [
    {
     "name": "stdout",
     "output_type": "stream",
     "text": [
      "2\n"
     ]
    }
   ],
   "source": [
    "print(np.array(([1, 2,], (3, 4))).ndim)"
   ]
  },
  {
   "cell_type": "code",
   "execution_count": 285,
   "metadata": {},
   "outputs": [
    {
     "name": "stdout",
     "output_type": "stream",
     "text": [
      "[[0. 0. 0. 0.]\n",
      " [0. 0. 0. 0.]\n",
      " [0. 0. 0. 0.]\n",
      " [0. 0. 0. 0.]]\n"
     ]
    },
    {
     "data": {
      "text/plain": [
       "array([[0.31209973, 0.48324792, 0.98101388, 0.77546109, 0.63310068],\n",
       "       [0.49040258, 0.70312935, 0.2429623 , 0.70234896, 0.08300544],\n",
       "       [0.08882619, 0.67931538, 0.54937961, 0.41451082, 0.86383705],\n",
       "       [0.5299501 , 0.09542635, 0.39836866, 0.96990637, 0.53294471],\n",
       "       [0.07036487, 0.97787025, 0.61231664, 0.62772579, 0.23258295]])"
      ]
     },
     "execution_count": 285,
     "metadata": {},
     "output_type": "execute_result"
    }
   ],
   "source": [
    "x2 = np.zeros(shape = (4, 4))\n",
    "print(x2)\n",
    "x22 = np.random.rand(5, 5)\n",
    "x22"
   ]
  },
  {
   "cell_type": "code",
   "execution_count": 278,
   "metadata": {},
   "outputs": [
    {
     "name": "stdout",
     "output_type": "stream",
     "text": [
      "[1. 1. 1. 1. 1. 1. 1. 1. 1. 1. 1. 1. 1. 1. 1. 1. 1. 1.]\n"
     ]
    }
   ],
   "source": [
    "x3 = np.ones(shape = (3, 2, 3))\n",
    "x3\n",
    "r1 = np.ravel(x3)\n",
    "for i in r1:\n",
    "    if i%2 == 0:\n",
    "        r1[0, 1, i] = 0\n",
    "print(r1)\n",
    "# np.rot90(r1)"
   ]
  },
  {
   "cell_type": "code",
   "execution_count": 263,
   "metadata": {},
   "outputs": [
    {
     "data": {
      "text/plain": [
       "array([[1.        , 0.20998188, 0.25613656, 0.35645927, 0.58678584],\n",
       "       [0.21827272, 1.        , 0.90235167, 0.25860405, 0.86321314],\n",
       "       [0.23640708, 0.41085981, 1.        , 0.51831467, 0.00814079],\n",
       "       [0.24048681, 0.43022531, 0.68105366, 1.        , 0.85737833],\n",
       "       [0.5459549 , 0.61787386, 0.73345387, 0.86380151, 1.        ]])"
      ]
     },
     "execution_count": 263,
     "metadata": {},
     "output_type": "execute_result"
    }
   ],
   "source": [
    "x22[np.diag_indices_from(x22)] = 1\n",
    "x22"
   ]
  },
  {
   "cell_type": "code",
   "execution_count": 280,
   "metadata": {},
   "outputs": [
    {
     "name": "stdout",
     "output_type": "stream",
     "text": [
      "(0, 0, 0)\n",
      "0.0\n",
      "(0, 0, 1)\n",
      "0.0\n",
      "(0, 0, 2)\n",
      "0.0\n",
      "(0, 1, 0)\n",
      "0.0\n",
      "(0, 1, 1)\n",
      "0.0\n",
      "(0, 1, 2)\n",
      "0.0\n",
      "(1, 0, 0)\n",
      "0.0\n",
      "(1, 0, 1)\n",
      "0.0\n",
      "(1, 0, 2)\n",
      "0.0\n",
      "(1, 1, 0)\n",
      "0.0\n",
      "(1, 1, 1)\n",
      "0.0\n",
      "(1, 1, 2)\n",
      "0.0\n",
      "(2, 0, 0)\n",
      "0.0\n",
      "(2, 0, 1)\n",
      "0.0\n",
      "(2, 0, 2)\n",
      "0.0\n",
      "(2, 1, 0)\n",
      "0.0\n",
      "(2, 1, 1)\n",
      "0.0\n",
      "(2, 1, 2)\n",
      "0.0\n"
     ]
    }
   ],
   "source": [
    "for c, d in np.ndenumerate(x2):\n",
    "    print(c)\n",
    "    print(d)"
   ]
  },
  {
   "cell_type": "code",
   "execution_count": 331,
   "metadata": {},
   "outputs": [
    {
     "name": "stdout",
     "output_type": "stream",
     "text": [
      "[[1. 1. 1. 1.]\n",
      " [1. 1. 1. 1.]\n",
      " [1. 1. 1. 1.]\n",
      " [1. 1. 1. 1.]]\n"
     ]
    }
   ],
   "source": [
    "o1 = np.ones(shape = (4,4))\n",
    "print(o1)"
   ]
  },
  {
   "cell_type": "code",
   "execution_count": 334,
   "metadata": {},
   "outputs": [
    {
     "name": "stdout",
     "output_type": "stream",
     "text": [
      "[[1. 0. 0. 1.]\n",
      " [0. 1. 1. 0.]\n",
      " [0. 1. 1. 0.]\n",
      " [1. 0. 0. 1.]]\n"
     ]
    }
   ],
   "source": [
    "for e, f in np.ndenumerate(o1):\n",
    "    e1, e2 = e\n",
    "    if e1 == e2 or e1+e2 == 3:\n",
    "        continue\n",
    "    else:\n",
    "        o1[e1,e2] = 0\n",
    "print(o1)"
   ]
  },
  {
   "cell_type": "code",
   "execution_count": 339,
   "metadata": {},
   "outputs": [
    {
     "name": "stdout",
     "output_type": "stream",
     "text": [
      "(array([ 0,  2,  4,  6,  8, 10, 12, 14, 16, 18, 20], dtype=int64),)\n"
     ]
    }
   ],
   "source": [
    "r2 = np.arange(1, 22)\n",
    "print(np.where(r2%2 != 0))"
   ]
  },
  {
   "cell_type": "code",
   "execution_count": 340,
   "metadata": {},
   "outputs": [
    {
     "name": "stdout",
     "output_type": "stream",
     "text": [
      "[10.         10.34482759 10.68965517 11.03448276 11.37931034 11.72413793\n",
      " 12.06896552 12.4137931  12.75862069 13.10344828 13.44827586 13.79310345\n",
      " 14.13793103 14.48275862 14.82758621 15.17241379 15.51724138 15.86206897\n",
      " 16.20689655 16.55172414 16.89655172 17.24137931 17.5862069  17.93103448\n",
      " 18.27586207 18.62068966 18.96551724 19.31034483 19.65517241 20.        ]\n"
     ]
    }
   ],
   "source": [
    "l4 = np.linspace(10, 20, 30)\n",
    "print(l4)"
   ]
  },
  {
   "cell_type": "code",
   "execution_count": 341,
   "metadata": {},
   "outputs": [
    {
     "data": {
      "text/plain": [
       "array([[0.43114869, 0.38420798, 0.25848146, 0.31186141, 0.15527627],\n",
       "       [0.21257636, 0.84539932, 0.79848018, 0.39628156, 0.40585133],\n",
       "       [0.45427379, 0.46203178, 0.19118363, 0.20265242, 0.25079046],\n",
       "       [0.59742613, 0.82151232, 0.9166843 , 0.77183899, 0.82558511],\n",
       "       [0.41189466, 0.08250145, 0.16934864, 0.87432489, 0.81386235]])"
      ]
     },
     "execution_count": 341,
     "metadata": {},
     "output_type": "execute_result"
    }
   ],
   "source": [
    "r4 = np.random.rand(5, 5)\n",
    "r4"
   ]
  },
  {
   "cell_type": "code",
   "execution_count": 356,
   "metadata": {},
   "outputs": [
    {
     "data": {
      "text/plain": [
       "array([10.        , 10.34482759, 10.68965517, 11.03448276, 11.37931034,\n",
       "       11.72413793, 12.06896552, 12.4137931 , 12.75862069, 13.10344828,\n",
       "       13.44827586, 13.79310345, 14.13793103, 14.48275862, 14.82758621,\n",
       "       15.17241379, 15.51724138, 15.86206897, 16.20689655, 16.55172414,\n",
       "       16.89655172, 17.24137931, 17.5862069 , 17.93103448, 18.27586207,\n",
       "       18.62068966, 18.96551724, 19.31034483, 19.65517241, 20.        ])"
      ]
     },
     "execution_count": 356,
     "metadata": {},
     "output_type": "execute_result"
    }
   ],
   "source": [
    "np.hstack(l4)"
   ]
  },
  {
   "cell_type": "code",
   "execution_count": null,
   "metadata": {},
   "outputs": [],
   "source": []
  }
 ],
 "metadata": {
  "kernelspec": {
   "display_name": "Python 3",
   "language": "python",
   "name": "python3"
  },
  "language_info": {
   "codemirror_mode": {
    "name": "ipython",
    "version": 3
   },
   "file_extension": ".py",
   "mimetype": "text/x-python",
   "name": "python",
   "nbconvert_exporter": "python",
   "pygments_lexer": "ipython3",
   "version": "3.8.2"
  }
 },
 "nbformat": 4,
 "nbformat_minor": 4
}
