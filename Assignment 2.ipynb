{
 "cells": [
  {
   "cell_type": "code",
   "execution_count": 25,
   "metadata": {},
   "outputs": [
    {
     "name": "stdout",
     "output_type": "stream",
     "text": [
      "Not prime number\n"
     ]
    }
   ],
   "source": [
    "# find prime number\n",
    "\n",
    "n = 15\n",
    "if n == 1:\n",
    "    print('Not prime number')\n",
    "else:\n",
    "    for i in range(2, n):\n",
    "        if n%i == 0:\n",
    "            print('Not prime number')\n",
    "            break\n",
    "    else:\n",
    "        print('prime number')"
   ]
  },
  {
   "cell_type": "code",
   "execution_count": 98,
   "metadata": {},
   "outputs": [
    {
     "name": "stdout",
     "output_type": "stream",
     "text": [
      "Enter the number: 7\n",
      "[]\n",
      "Prime number\n"
     ]
    }
   ],
   "source": [
    "n = int(input(\"Enter the number: \"))\n",
    "res = list(filter(lambda x: n%x == 0, range(2, n)))\n",
    "print(res)\n",
    "if len(res) > 0: print('Not prime number') \n",
    "else: print('Prime number')"
   ]
  },
  {
   "cell_type": "code",
   "execution_count": 77,
   "metadata": {},
   "outputs": [
    {
     "name": "stdout",
     "output_type": "stream",
     "text": [
      "Enter a number: 7\n",
      "7 is a prime number\n"
     ]
    }
   ],
   "source": [
    "num = int(input(\"Enter a number: \"))  \n",
    "  \n",
    "if num > 1:  \n",
    "   for i in range(2,num):  \n",
    "       if (num % i) == 0:  \n",
    "           print(num,\"is not a prime number\")  \n",
    "           print(i,\"times\",num//i,\"is\",num)  \n",
    "           break  \n",
    "   else:  \n",
    "       print(num,\"is a prime number\")  \n",
    "         \n",
    "else:  \n",
    "   print(num,\"is not a prime number\")  "
   ]
  },
  {
   "cell_type": "code",
   "execution_count": 107,
   "metadata": {},
   "outputs": [
    {
     "name": "stdout",
     "output_type": "stream",
     "text": [
      "Enter the number: 5\n"
     ]
    },
    {
     "data": {
      "text/plain": [
       "'5 is PRIME NUMBER'"
      ]
     },
     "execution_count": 107,
     "metadata": {},
     "output_type": "execute_result"
    }
   ],
   "source": [
    "n = int(input(\"Enter the number: \"))\n",
    "str(n) + ' is NOT PRIME NUMBER'if len(list(filter(lambda x: n%x == 0, range(2, n)))) > 0 else str(n) + ' is PRIME NUMBER'"
   ]
  },
  {
   "cell_type": "code",
   "execution_count": 131,
   "metadata": {},
   "outputs": [
    {
     "data": {
      "text/plain": [
       "[345, 9849156722, 102]"
      ]
     },
     "execution_count": 131,
     "metadata": {},
     "output_type": "execute_result"
    }
   ],
   "source": [
    "ls1 = ['hello', 345, 'my number is', 9849156722, 'residing at ', 'flat no ', 102, 'kiran heights']\n",
    "list(filter(lambda x: isinstance(x,int), ls1))"
   ]
  },
  {
   "cell_type": "code",
   "execution_count": 5,
   "metadata": {},
   "outputs": [
    {
     "data": {
      "text/plain": [
       "['hello']"
      ]
     },
     "execution_count": 5,
     "metadata": {},
     "output_type": "execute_result"
    }
   ],
   "source": [
    "ls1 = ['hello', 345, 'my number is', 9849156722, 'residing at ', 'flat no ', 102, 'kiran heights']\n",
    "list(filter(lambda x: isinstance(x,str) & str(x).isalpha(), ls1))"
   ]
  },
  {
   "cell_type": "code",
   "execution_count": 6,
   "metadata": {},
   "outputs": [
    {
     "name": "stdout",
     "output_type": "stream",
     "text": [
      "\n",
      "    This is just example of docstring\n",
      "    \n"
     ]
    }
   ],
   "source": [
    "def docstr(a):\n",
    "    '''\n",
    "    This is just example of docstring\n",
    "    '''\n",
    "    return a**a\n",
    "\n",
    "print(docstr.__doc__)"
   ]
  },
  {
   "cell_type": "code",
   "execution_count": 14,
   "metadata": {},
   "outputs": [
    {
     "name": "stdout",
     "output_type": "stream",
     "text": [
      "[9, 7]\n"
     ]
    }
   ],
   "source": [
    "n1 = [4, 2, 7, 9, 6, 1, 3, 2]\n",
    "n1.sort()\n",
    "print(n1[:len(n1)-3:-1])"
   ]
  },
  {
   "cell_type": "code",
   "execution_count": 21,
   "metadata": {},
   "outputs": [
    {
     "data": {
      "text/plain": [
       "[9, 7]"
      ]
     },
     "execution_count": 21,
     "metadata": {},
     "output_type": "execute_result"
    }
   ],
   "source": [
    "n1[:5:-1]"
   ]
  },
  {
   "cell_type": "code",
   "execution_count": 40,
   "metadata": {},
   "outputs": [
    {
     "data": {
      "text/plain": [
       "99500"
      ]
     },
     "execution_count": 40,
     "metadata": {},
     "output_type": "execute_result"
    }
   ],
   "source": [
    "from functools import reduce\n",
    "reduce(lambda b, c: b+c, range(5, 1000, 5))"
   ]
  },
  {
   "cell_type": "code",
   "execution_count": null,
   "metadata": {},
   "outputs": [],
   "source": [
    "# 61.\tInput = [\"1/1\",\"1/2\",\"1/3\",\"1/4\",\"2/5\",\"2/6\",\"2/8\"] Output = [['1/1-4'], ['2/5-6'], ['2/8']]\n",
    "l2 = [\"1/1\",\"1/2\",\"1/3\",\"1/4\",\"2/5\",\"2/6\",\"2/8\"]"
   ]
  }
 ],
 "metadata": {
  "kernelspec": {
   "display_name": "Python 3",
   "language": "python",
   "name": "python3"
  },
  "language_info": {
   "codemirror_mode": {
    "name": "ipython",
    "version": 3
   },
   "file_extension": ".py",
   "mimetype": "text/x-python",
   "name": "python",
   "nbconvert_exporter": "python",
   "pygments_lexer": "ipython3",
   "version": "3.8.2"
  }
 },
 "nbformat": 4,
 "nbformat_minor": 4
}
