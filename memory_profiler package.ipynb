{
 "cells": [
  {
   "cell_type": "code",
   "execution_count": 1,
   "metadata": {},
   "outputs": [],
   "source": [
    "import memory_profiler\n",
    "import time"
   ]
  },
  {
   "cell_type": "code",
   "execution_count": 10,
   "metadata": {},
   "outputs": [
    {
     "name": "stdout",
     "output_type": "stream",
     "text": [
      "------------------------------------------------------------------------\n",
      "1591099152.4790993\n",
      "before [50.69140625] Mb data consumed\n",
      "After [94.38671875] Mb data consumed\n",
      "1591099174.7672565\n",
      "Took 22.28815722465515 seconds\n",
      "------------------------------------------------------------------------\n"
     ]
    }
   ],
   "source": [
    "# import memory_profiler\n",
    "# import time\n",
    "\n",
    "\n",
    "def runoper(lst):\n",
    "    l1 = []\n",
    "    for a in lst:\n",
    "        a1 = '{} value of squar is : {}'.format(a, a**a)\n",
    "        l1.append(a1)\n",
    "    print('After {} Mb data consumed'.format(memory_profiler.memory_usage()))\n",
    "        \n",
    "l2 = ['{} value of squar is : {}'.format(b, b*b) for b in range(100000)]\n",
    "\n",
    "# l3 = map(lambda c: '{} value of squar is : {}'.format(c, c*c), range(100000))\n",
    "\n",
    "print('------------------------------------------------------------------------')\n",
    "t1 = time.time()\n",
    "print(t1)\n",
    "print('before {} Mb data consumed'.format(memory_profiler.memory_usage()))\n",
    "# v1 = runoper(list(range(5000)))\n",
    "# print('After {} Mb data consumed'.format(memory_profiler.memory_usage()))\n",
    "t2 = time.time()\n",
    "print(t2)\n",
    "print('Took {} seconds'.format(t2-t1))\n",
    "print('------------------------------------------------------------------------')"
   ]
  },
  {
   "cell_type": "code",
   "execution_count": 12,
   "metadata": {},
   "outputs": [
    {
     "name": "stdout",
     "output_type": "stream",
     "text": [
      "------------------------------------------------------------------------\n",
      "1591099396.2299526\n",
      "before [63.14453125] Mb data consumed\n",
      "After [94.5703125] Mb data consumed\n",
      "1591099418.521942\n",
      "Took 22.29198932647705 seconds\n",
      "------------------------------------------------------------------------\n"
     ]
    }
   ],
   "source": [
    "print('------------------------------------------------------------------------')\n",
    "t1 = time.time()\n",
    "print(t1)\n",
    "print('before {} Mb data consumed'.format(memory_profiler.memory_usage()))\n",
    "l2 = ['{} value of squar is : {}'.format(b, b**b) for b in range(5000)]\n",
    "print('After {} Mb data consumed'.format(memory_profiler.memory_usage()))\n",
    "t2 = time.time()\n",
    "print(t2)\n",
    "print('Took {} seconds'.format(t2-t1))\n",
    "print('------------------------------------------------------------------------')"
   ]
  },
  {
   "cell_type": "code",
   "execution_count": 22,
   "metadata": {},
   "outputs": [
    {
     "name": "stdout",
     "output_type": "stream",
     "text": [
      "------------------------------------------------------------------------\n",
      "1591099732.1373308\n",
      "before [138.1015625] Mb data consumed\n",
      "After [98.12890625] Mb data consumed\n",
      "1591099732.3601143\n",
      "Took 0.22278356552124023 seconds\n",
      "------------------------------------------------------------------------\n"
     ]
    }
   ],
   "source": [
    "print('------------------------------------------------------------------------')\n",
    "t1 = time.time()\n",
    "print(t1)\n",
    "print('before {} Mb data consumed'.format(memory_profiler.memory_usage()))\n",
    "l3 = map(lambda c: '{} value of squar is : {}'.format(c, c**c), range(5000))\n",
    "print('After {} Mb data consumed'.format(memory_profiler.memory_usage()))\n",
    "t2 = time.time()\n",
    "print(t2)\n",
    "print('Took {} seconds'.format(t2-t1))\n",
    "print('------------------------------------------------------------------------')"
   ]
  },
  {
   "cell_type": "code",
   "execution_count": null,
   "metadata": {},
   "outputs": [],
   "source": []
  }
 ],
 "metadata": {
  "kernelspec": {
   "display_name": "Python 3",
   "language": "python",
   "name": "python3"
  },
  "language_info": {
   "codemirror_mode": {
    "name": "ipython",
    "version": 3
   },
   "file_extension": ".py",
   "mimetype": "text/x-python",
   "name": "python",
   "nbconvert_exporter": "python",
   "pygments_lexer": "ipython3",
   "version": "3.8.2"
  }
 },
 "nbformat": 4,
 "nbformat_minor": 4
}
